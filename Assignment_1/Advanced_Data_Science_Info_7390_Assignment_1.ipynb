{
  "nbformat": 4,
  "nbformat_minor": 0,
  "metadata": {
    "colab": {
      "name": "Advanced_Data_Science_Info_7390_Assignment_1",
      "provenance": [],
      "collapsed_sections": []
    },
    "kernelspec": {
      "name": "python3",
      "display_name": "Python 3"
    }
  },
  "cells": [
    {
      "cell_type": "markdown",
      "metadata": {
        "id": "hyG9aliSLM1h"
      },
      "source": [
        "## **Assignment 1 - ML Models**\n",
        "\n",
        "### **Abstract**\n",
        "\n",
        "Cardiovascular disease is the name for the group of disorders of heart and blood vessels. They include: hypertension, coronary heart disease(heart attack), stroke and a few others. CVD can be caused from a variety of reasons such as unhealthy diet, lack of exercise, being overweight or smoking. The objective of this notebook is to predict whether the person has any sort of CVD present in an individual by studying the features that causes it. By training and optimizing a model, we can try to predict from an individual's features whether said individual has a cardio vascular disease or not. This model can also be used to forecast if an individual might acquire a CVD in the future.\n",
        "\n",
        "### **Data**\n",
        "\n",
        "The dataset obtained from one of the kaggle competitions provides us with 11 potential characteristics or features of an individual such as height, weight, presence of cholestrol or whether the individual smokes cigarettes. The target variable is the CardioVascular Disease which is represented as 1 indicating disease present and 0 if the individual does not have CVD\n",
        "\n",
        "Kaggle Dataset link - https://www.kaggle.com/sulianova/cardiovascular-disease-dataset"
      ]
    },
    {
      "cell_type": "code",
      "metadata": {
        "id": "tSWgtGDSg6fj"
      },
      "source": [
        "#Importing Libraries\n",
        "import pandas as pd\n",
        "import numpy as np\n",
        "from matplotlib import pyplot as plt   \n",
        "\n",
        "#Models\n",
        "from sklearn.ensemble import RandomForestClassifier\n",
        "from sklearn.ensemble import RandomForestClassifier, GradientBoostingClassifier\n",
        "from pandas.api.types import is_string_dtype,is_numeric_dtype\n",
        "from sklearn import preprocessing\n",
        "from sklearn.preprocessing import LabelEncoder\n",
        "from sklearn.model_selection import train_test_split, cross_val_score, GridSearchCV\n",
        "from sklearn.model_selection import RepeatedStratifiedKFold\n",
        "from sklearn.metrics import confusion_matrix,accuracy_score,matthews_corrcoef,f1_score\n",
        "from matplotlib import rcParams\n",
        "from sklearn import metrics\n",
        "from google.colab import drive\n",
        "from sklearn.linear_model import LogisticRegression\n",
        "from matplotlib import pyplot\n",
        "\n",
        "\n",
        "\n",
        "#Visualization \n",
        "import seaborn as sns\n",
        "\n",
        "%matplotlib inline"
      ],
      "execution_count": 198,
      "outputs": []
    },
    {
      "cell_type": "code",
      "metadata": {
        "id": "NQcIMbuLg-Ms",
        "outputId": "87353824-eb10-4a97-ee97-0dda37b23c8a",
        "colab": {
          "base_uri": "https://localhost:8080/",
          "height": 34
        }
      },
      "source": [
        "%pwd"
      ],
      "execution_count": 199,
      "outputs": [
        {
          "output_type": "execute_result",
          "data": {
            "application/vnd.google.colaboratory.intrinsic+json": {
              "type": "string"
            },
            "text/plain": [
              "'/content'"
            ]
          },
          "metadata": {
            "tags": []
          },
          "execution_count": 199
        }
      ]
    },
    {
      "cell_type": "markdown",
      "metadata": {
        "id": "zsyNvhEsQZCX"
      },
      "source": [
        "### **Reading the Data**"
      ]
    },
    {
      "cell_type": "code",
      "metadata": {
        "id": "lumixmYz1Jrw",
        "outputId": "dd0e2350-78d2-4f51-aa10-056930310d4d",
        "colab": {
          "base_uri": "https://localhost:8080/",
          "height": 34
        }
      },
      "source": [
        "drive.mount('/content/drive')\n",
        "df = pd.read_csv('drive/My Drive/Colab Notebooks/cardio_train.csv', sep =';') "
      ],
      "execution_count": null,
      "outputs": [
        {
          "output_type": "stream",
          "text": [
            "Mounted at /content/drive\n"
          ],
          "name": "stdout"
        }
      ]
    },
    {
      "cell_type": "code",
      "metadata": {
        "id": "E-0kD238g-fK",
        "outputId": "2b229855-5557-4697-bc5d-c3b31915b2c9",
        "colab": {
          "base_uri": "https://localhost:8080/",
          "height": 34
        }
      },
      "source": [
        "print(df.shape)"
      ],
      "execution_count": null,
      "outputs": [
        {
          "output_type": "stream",
          "text": [
            "(68757, 14)\n"
          ],
          "name": "stdout"
        }
      ]
    },
    {
      "cell_type": "code",
      "metadata": {
        "id": "m5lDtoj9RTfs",
        "outputId": "f3bb8183-b547-4022-db9f-a41f40de9514",
        "colab": {
          "base_uri": "https://localhost:8080/",
          "height": 294
        }
      },
      "source": [
        "df.describe()"
      ],
      "execution_count": null,
      "outputs": [
        {
          "output_type": "execute_result",
          "data": {
            "text/html": [
              "<div>\n",
              "<style scoped>\n",
              "    .dataframe tbody tr th:only-of-type {\n",
              "        vertical-align: middle;\n",
              "    }\n",
              "\n",
              "    .dataframe tbody tr th {\n",
              "        vertical-align: top;\n",
              "    }\n",
              "\n",
              "    .dataframe thead th {\n",
              "        text-align: right;\n",
              "    }\n",
              "</style>\n",
              "<table border=\"1\" class=\"dataframe\">\n",
              "  <thead>\n",
              "    <tr style=\"text-align: right;\">\n",
              "      <th></th>\n",
              "      <th>id</th>\n",
              "      <th>age</th>\n",
              "      <th>gender</th>\n",
              "      <th>height</th>\n",
              "      <th>weight</th>\n",
              "      <th>ap_hi</th>\n",
              "      <th>ap_lo</th>\n",
              "      <th>cholesterol</th>\n",
              "      <th>gluc</th>\n",
              "      <th>smoke</th>\n",
              "      <th>alco</th>\n",
              "      <th>active</th>\n",
              "      <th>cardio</th>\n",
              "      <th>bmi</th>\n",
              "    </tr>\n",
              "  </thead>\n",
              "  <tbody>\n",
              "    <tr>\n",
              "      <th>count</th>\n",
              "      <td>68757.000000</td>\n",
              "      <td>68757.000000</td>\n",
              "      <td>68757.000000</td>\n",
              "      <td>68757.000000</td>\n",
              "      <td>68757.000000</td>\n",
              "      <td>68757.000000</td>\n",
              "      <td>68757.000000</td>\n",
              "      <td>68757.000000</td>\n",
              "      <td>68757.000000</td>\n",
              "      <td>68757.000000</td>\n",
              "      <td>68757.000000</td>\n",
              "      <td>68757.000000</td>\n",
              "      <td>68757.000000</td>\n",
              "      <td>68757.000000</td>\n",
              "    </tr>\n",
              "    <tr>\n",
              "      <th>mean</th>\n",
              "      <td>49967.645112</td>\n",
              "      <td>53.323414</td>\n",
              "      <td>1.349099</td>\n",
              "      <td>164.448100</td>\n",
              "      <td>73.964671</td>\n",
              "      <td>126.293817</td>\n",
              "      <td>81.318760</td>\n",
              "      <td>1.363818</td>\n",
              "      <td>1.225126</td>\n",
              "      <td>0.087976</td>\n",
              "      <td>0.053595</td>\n",
              "      <td>0.803322</td>\n",
              "      <td>0.494379</td>\n",
              "      <td>27.381203</td>\n",
              "    </tr>\n",
              "    <tr>\n",
              "      <th>std</th>\n",
              "      <td>28844.708125</td>\n",
              "      <td>6.768052</td>\n",
              "      <td>0.476689</td>\n",
              "      <td>7.861852</td>\n",
              "      <td>13.936888</td>\n",
              "      <td>17.681518</td>\n",
              "      <td>9.858513</td>\n",
              "      <td>0.678258</td>\n",
              "      <td>0.570987</td>\n",
              "      <td>0.283263</td>\n",
              "      <td>0.225217</td>\n",
              "      <td>0.397490</td>\n",
              "      <td>0.499972</td>\n",
              "      <td>5.043304</td>\n",
              "    </tr>\n",
              "    <tr>\n",
              "      <th>min</th>\n",
              "      <td>0.000000</td>\n",
              "      <td>30.000000</td>\n",
              "      <td>1.000000</td>\n",
              "      <td>98.000000</td>\n",
              "      <td>28.000000</td>\n",
              "      <td>7.000000</td>\n",
              "      <td>0.000000</td>\n",
              "      <td>1.000000</td>\n",
              "      <td>1.000000</td>\n",
              "      <td>0.000000</td>\n",
              "      <td>0.000000</td>\n",
              "      <td>0.000000</td>\n",
              "      <td>0.000000</td>\n",
              "      <td>10.726644</td>\n",
              "    </tr>\n",
              "    <tr>\n",
              "      <th>25%</th>\n",
              "      <td>24998.000000</td>\n",
              "      <td>48.000000</td>\n",
              "      <td>1.000000</td>\n",
              "      <td>159.000000</td>\n",
              "      <td>65.000000</td>\n",
              "      <td>120.000000</td>\n",
              "      <td>80.000000</td>\n",
              "      <td>1.000000</td>\n",
              "      <td>1.000000</td>\n",
              "      <td>0.000000</td>\n",
              "      <td>0.000000</td>\n",
              "      <td>1.000000</td>\n",
              "      <td>0.000000</td>\n",
              "      <td>23.875115</td>\n",
              "    </tr>\n",
              "    <tr>\n",
              "      <th>50%</th>\n",
              "      <td>50010.000000</td>\n",
              "      <td>54.000000</td>\n",
              "      <td>1.000000</td>\n",
              "      <td>165.000000</td>\n",
              "      <td>72.000000</td>\n",
              "      <td>120.000000</td>\n",
              "      <td>80.000000</td>\n",
              "      <td>1.000000</td>\n",
              "      <td>1.000000</td>\n",
              "      <td>0.000000</td>\n",
              "      <td>0.000000</td>\n",
              "      <td>1.000000</td>\n",
              "      <td>0.000000</td>\n",
              "      <td>26.298488</td>\n",
              "    </tr>\n",
              "    <tr>\n",
              "      <th>75%</th>\n",
              "      <td>74859.000000</td>\n",
              "      <td>58.000000</td>\n",
              "      <td>2.000000</td>\n",
              "      <td>170.000000</td>\n",
              "      <td>82.000000</td>\n",
              "      <td>140.000000</td>\n",
              "      <td>90.000000</td>\n",
              "      <td>1.000000</td>\n",
              "      <td>1.000000</td>\n",
              "      <td>0.000000</td>\n",
              "      <td>0.000000</td>\n",
              "      <td>1.000000</td>\n",
              "      <td>1.000000</td>\n",
              "      <td>30.110991</td>\n",
              "    </tr>\n",
              "    <tr>\n",
              "      <th>max</th>\n",
              "      <td>99999.000000</td>\n",
              "      <td>65.000000</td>\n",
              "      <td>2.000000</td>\n",
              "      <td>250.000000</td>\n",
              "      <td>180.000000</td>\n",
              "      <td>240.000000</td>\n",
              "      <td>190.000000</td>\n",
              "      <td>3.000000</td>\n",
              "      <td>3.000000</td>\n",
              "      <td>1.000000</td>\n",
              "      <td>1.000000</td>\n",
              "      <td>1.000000</td>\n",
              "      <td>1.000000</td>\n",
              "      <td>50.000000</td>\n",
              "    </tr>\n",
              "  </tbody>\n",
              "</table>\n",
              "</div>"
            ],
            "text/plain": [
              "                 id           age  ...        cardio           bmi\n",
              "count  68757.000000  68757.000000  ...  68757.000000  68757.000000\n",
              "mean   49967.645112     53.323414  ...      0.494379     27.381203\n",
              "std    28844.708125      6.768052  ...      0.499972      5.043304\n",
              "min        0.000000     30.000000  ...      0.000000     10.726644\n",
              "25%    24998.000000     48.000000  ...      0.000000     23.875115\n",
              "50%    50010.000000     54.000000  ...      0.000000     26.298488\n",
              "75%    74859.000000     58.000000  ...      1.000000     30.110991\n",
              "max    99999.000000     65.000000  ...      1.000000     50.000000\n",
              "\n",
              "[8 rows x 14 columns]"
            ]
          },
          "metadata": {
            "tags": []
          },
          "execution_count": 36
        }
      ]
    },
    {
      "cell_type": "markdown",
      "metadata": {
        "id": "H3-cNZDxQhY1"
      },
      "source": [
        "### **Pre-Processing the Dataset**"
      ]
    },
    {
      "cell_type": "code",
      "metadata": {
        "id": "fL0_jSOrKp5T",
        "outputId": "e7617208-9c9f-4548-8920-b1d5ead7019f",
        "colab": {
          "base_uri": "https://localhost:8080/",
          "height": 34
        }
      },
      "source": [
        "#Converting the height and weight into BMI as a separate column and dropped the two columns\n",
        "df.drop_duplicates(inplace=True)\n",
        "df[\"bmi\"] = df[\"weight\"]/(df[\"height\"]/100)**2\n",
        "out_filter = ((df[\"ap_hi\"]>250) | (df[\"ap_lo\"]>200))\n",
        "df=df[~out_filter]\n",
        "df.head()\n",
        "df.shape"
      ],
      "execution_count": null,
      "outputs": [
        {
          "output_type": "execute_result",
          "data": {
            "text/plain": [
              "(69007, 14)"
            ]
          },
          "metadata": {
            "tags": []
          },
          "execution_count": 6
        }
      ]
    },
    {
      "cell_type": "code",
      "metadata": {
        "id": "46rDGFWVYW-t",
        "outputId": "5740d016-826a-4b98-8b90-d7c9cbff0ab6",
        "colab": {
          "base_uri": "https://localhost:8080/",
          "height": 34
        }
      },
      "source": [
        "#The min and max values for features ap_hi and ap_lo have high variation. Considering the mean, dropping all outliers\n",
        "\n",
        "out_filter2 = ((df[\"ap_hi\"]<0) | (df[\"ap_lo\"] < 0))\n",
        "df = df[~out_filter2]\n",
        "df.shape"
      ],
      "execution_count": null,
      "outputs": [
        {
          "output_type": "execute_result",
          "data": {
            "text/plain": [
              "(68999, 14)"
            ]
          },
          "metadata": {
            "tags": []
          },
          "execution_count": 7
        }
      ]
    },
    {
      "cell_type": "code",
      "metadata": {
        "id": "NxBkMfFCUEJo"
      },
      "source": [
        "#Filtering BMI outliers\n",
        "\n",
        "out_filter3 = ((df[\"bmi\"]<10) | (df[\"bmi\"]>50))\n",
        "df = df[~out_filter3]"
      ],
      "execution_count": null,
      "outputs": []
    },
    {
      "cell_type": "code",
      "metadata": {
        "id": "iCEyK19sVD7B",
        "outputId": "13037aef-9420-4d4c-b01d-84c7bd19fbe8",
        "colab": {
          "base_uri": "https://localhost:8080/",
          "height": 294
        }
      },
      "source": [
        "df.describe()"
      ],
      "execution_count": null,
      "outputs": [
        {
          "output_type": "execute_result",
          "data": {
            "text/html": [
              "<div>\n",
              "<style scoped>\n",
              "    .dataframe tbody tr th:only-of-type {\n",
              "        vertical-align: middle;\n",
              "    }\n",
              "\n",
              "    .dataframe tbody tr th {\n",
              "        vertical-align: top;\n",
              "    }\n",
              "\n",
              "    .dataframe thead th {\n",
              "        text-align: right;\n",
              "    }\n",
              "</style>\n",
              "<table border=\"1\" class=\"dataframe\">\n",
              "  <thead>\n",
              "    <tr style=\"text-align: right;\">\n",
              "      <th></th>\n",
              "      <th>id</th>\n",
              "      <th>age</th>\n",
              "      <th>gender</th>\n",
              "      <th>height</th>\n",
              "      <th>weight</th>\n",
              "      <th>ap_hi</th>\n",
              "      <th>ap_lo</th>\n",
              "      <th>cholesterol</th>\n",
              "      <th>gluc</th>\n",
              "      <th>smoke</th>\n",
              "      <th>alco</th>\n",
              "      <th>active</th>\n",
              "      <th>cardio</th>\n",
              "      <th>bmi</th>\n",
              "    </tr>\n",
              "  </thead>\n",
              "  <tbody>\n",
              "    <tr>\n",
              "      <th>count</th>\n",
              "      <td>68757.000000</td>\n",
              "      <td>68757.000000</td>\n",
              "      <td>68757.000000</td>\n",
              "      <td>68757.000000</td>\n",
              "      <td>68757.000000</td>\n",
              "      <td>68757.000000</td>\n",
              "      <td>68757.000000</td>\n",
              "      <td>68757.000000</td>\n",
              "      <td>68757.000000</td>\n",
              "      <td>68757.000000</td>\n",
              "      <td>68757.000000</td>\n",
              "      <td>68757.000000</td>\n",
              "      <td>68757.000000</td>\n",
              "      <td>68757.000000</td>\n",
              "    </tr>\n",
              "    <tr>\n",
              "      <th>mean</th>\n",
              "      <td>49967.645112</td>\n",
              "      <td>19463.239045</td>\n",
              "      <td>1.349099</td>\n",
              "      <td>164.448100</td>\n",
              "      <td>73.964671</td>\n",
              "      <td>126.293817</td>\n",
              "      <td>81.318760</td>\n",
              "      <td>1.363818</td>\n",
              "      <td>1.225126</td>\n",
              "      <td>0.087976</td>\n",
              "      <td>0.053595</td>\n",
              "      <td>0.803322</td>\n",
              "      <td>0.494379</td>\n",
              "      <td>27.381203</td>\n",
              "    </tr>\n",
              "    <tr>\n",
              "      <th>std</th>\n",
              "      <td>28844.708125</td>\n",
              "      <td>2468.299119</td>\n",
              "      <td>0.476689</td>\n",
              "      <td>7.861852</td>\n",
              "      <td>13.936888</td>\n",
              "      <td>17.681518</td>\n",
              "      <td>9.858513</td>\n",
              "      <td>0.678258</td>\n",
              "      <td>0.570987</td>\n",
              "      <td>0.283263</td>\n",
              "      <td>0.225217</td>\n",
              "      <td>0.397490</td>\n",
              "      <td>0.499972</td>\n",
              "      <td>5.043304</td>\n",
              "    </tr>\n",
              "    <tr>\n",
              "      <th>min</th>\n",
              "      <td>0.000000</td>\n",
              "      <td>10798.000000</td>\n",
              "      <td>1.000000</td>\n",
              "      <td>98.000000</td>\n",
              "      <td>28.000000</td>\n",
              "      <td>7.000000</td>\n",
              "      <td>0.000000</td>\n",
              "      <td>1.000000</td>\n",
              "      <td>1.000000</td>\n",
              "      <td>0.000000</td>\n",
              "      <td>0.000000</td>\n",
              "      <td>0.000000</td>\n",
              "      <td>0.000000</td>\n",
              "      <td>10.726644</td>\n",
              "    </tr>\n",
              "    <tr>\n",
              "      <th>25%</th>\n",
              "      <td>24998.000000</td>\n",
              "      <td>17656.000000</td>\n",
              "      <td>1.000000</td>\n",
              "      <td>159.000000</td>\n",
              "      <td>65.000000</td>\n",
              "      <td>120.000000</td>\n",
              "      <td>80.000000</td>\n",
              "      <td>1.000000</td>\n",
              "      <td>1.000000</td>\n",
              "      <td>0.000000</td>\n",
              "      <td>0.000000</td>\n",
              "      <td>1.000000</td>\n",
              "      <td>0.000000</td>\n",
              "      <td>23.875115</td>\n",
              "    </tr>\n",
              "    <tr>\n",
              "      <th>50%</th>\n",
              "      <td>50010.000000</td>\n",
              "      <td>19700.000000</td>\n",
              "      <td>1.000000</td>\n",
              "      <td>165.000000</td>\n",
              "      <td>72.000000</td>\n",
              "      <td>120.000000</td>\n",
              "      <td>80.000000</td>\n",
              "      <td>1.000000</td>\n",
              "      <td>1.000000</td>\n",
              "      <td>0.000000</td>\n",
              "      <td>0.000000</td>\n",
              "      <td>1.000000</td>\n",
              "      <td>0.000000</td>\n",
              "      <td>26.298488</td>\n",
              "    </tr>\n",
              "    <tr>\n",
              "      <th>75%</th>\n",
              "      <td>74859.000000</td>\n",
              "      <td>21323.000000</td>\n",
              "      <td>2.000000</td>\n",
              "      <td>170.000000</td>\n",
              "      <td>82.000000</td>\n",
              "      <td>140.000000</td>\n",
              "      <td>90.000000</td>\n",
              "      <td>1.000000</td>\n",
              "      <td>1.000000</td>\n",
              "      <td>0.000000</td>\n",
              "      <td>0.000000</td>\n",
              "      <td>1.000000</td>\n",
              "      <td>1.000000</td>\n",
              "      <td>30.110991</td>\n",
              "    </tr>\n",
              "    <tr>\n",
              "      <th>max</th>\n",
              "      <td>99999.000000</td>\n",
              "      <td>23713.000000</td>\n",
              "      <td>2.000000</td>\n",
              "      <td>250.000000</td>\n",
              "      <td>180.000000</td>\n",
              "      <td>240.000000</td>\n",
              "      <td>190.000000</td>\n",
              "      <td>3.000000</td>\n",
              "      <td>3.000000</td>\n",
              "      <td>1.000000</td>\n",
              "      <td>1.000000</td>\n",
              "      <td>1.000000</td>\n",
              "      <td>1.000000</td>\n",
              "      <td>50.000000</td>\n",
              "    </tr>\n",
              "  </tbody>\n",
              "</table>\n",
              "</div>"
            ],
            "text/plain": [
              "                 id           age  ...        cardio           bmi\n",
              "count  68757.000000  68757.000000  ...  68757.000000  68757.000000\n",
              "mean   49967.645112  19463.239045  ...      0.494379     27.381203\n",
              "std    28844.708125   2468.299119  ...      0.499972      5.043304\n",
              "min        0.000000  10798.000000  ...      0.000000     10.726644\n",
              "25%    24998.000000  17656.000000  ...      0.000000     23.875115\n",
              "50%    50010.000000  19700.000000  ...      0.000000     26.298488\n",
              "75%    74859.000000  21323.000000  ...      1.000000     30.110991\n",
              "max    99999.000000  23713.000000  ...      1.000000     50.000000\n",
              "\n",
              "[8 rows x 14 columns]"
            ]
          },
          "metadata": {
            "tags": []
          },
          "execution_count": 9
        }
      ]
    },
    {
      "cell_type": "code",
      "metadata": {
        "id": "gDv1uFyshG3f",
        "outputId": "3fe0b549-dedf-492b-90ea-4a5143c37068",
        "colab": {
          "base_uri": "https://localhost:8080/",
          "height": 202
        }
      },
      "source": [
        "#Converting age from days-old to years\n",
        "\n",
        "df[\"age\"] = (df[\"age\"]/365).round().astype('int')\n",
        "df.head()"
      ],
      "execution_count": null,
      "outputs": [
        {
          "output_type": "execute_result",
          "data": {
            "text/html": [
              "<div>\n",
              "<style scoped>\n",
              "    .dataframe tbody tr th:only-of-type {\n",
              "        vertical-align: middle;\n",
              "    }\n",
              "\n",
              "    .dataframe tbody tr th {\n",
              "        vertical-align: top;\n",
              "    }\n",
              "\n",
              "    .dataframe thead th {\n",
              "        text-align: right;\n",
              "    }\n",
              "</style>\n",
              "<table border=\"1\" class=\"dataframe\">\n",
              "  <thead>\n",
              "    <tr style=\"text-align: right;\">\n",
              "      <th></th>\n",
              "      <th>id</th>\n",
              "      <th>age</th>\n",
              "      <th>gender</th>\n",
              "      <th>height</th>\n",
              "      <th>weight</th>\n",
              "      <th>ap_hi</th>\n",
              "      <th>ap_lo</th>\n",
              "      <th>cholesterol</th>\n",
              "      <th>gluc</th>\n",
              "      <th>smoke</th>\n",
              "      <th>alco</th>\n",
              "      <th>active</th>\n",
              "      <th>cardio</th>\n",
              "      <th>bmi</th>\n",
              "    </tr>\n",
              "  </thead>\n",
              "  <tbody>\n",
              "    <tr>\n",
              "      <th>0</th>\n",
              "      <td>0</td>\n",
              "      <td>50</td>\n",
              "      <td>2</td>\n",
              "      <td>168</td>\n",
              "      <td>62.0</td>\n",
              "      <td>110</td>\n",
              "      <td>80</td>\n",
              "      <td>1</td>\n",
              "      <td>1</td>\n",
              "      <td>0</td>\n",
              "      <td>0</td>\n",
              "      <td>1</td>\n",
              "      <td>0</td>\n",
              "      <td>21.967120</td>\n",
              "    </tr>\n",
              "    <tr>\n",
              "      <th>1</th>\n",
              "      <td>1</td>\n",
              "      <td>55</td>\n",
              "      <td>1</td>\n",
              "      <td>156</td>\n",
              "      <td>85.0</td>\n",
              "      <td>140</td>\n",
              "      <td>90</td>\n",
              "      <td>3</td>\n",
              "      <td>1</td>\n",
              "      <td>0</td>\n",
              "      <td>0</td>\n",
              "      <td>1</td>\n",
              "      <td>1</td>\n",
              "      <td>34.927679</td>\n",
              "    </tr>\n",
              "    <tr>\n",
              "      <th>2</th>\n",
              "      <td>2</td>\n",
              "      <td>52</td>\n",
              "      <td>1</td>\n",
              "      <td>165</td>\n",
              "      <td>64.0</td>\n",
              "      <td>130</td>\n",
              "      <td>70</td>\n",
              "      <td>3</td>\n",
              "      <td>1</td>\n",
              "      <td>0</td>\n",
              "      <td>0</td>\n",
              "      <td>0</td>\n",
              "      <td>1</td>\n",
              "      <td>23.507805</td>\n",
              "    </tr>\n",
              "    <tr>\n",
              "      <th>3</th>\n",
              "      <td>3</td>\n",
              "      <td>48</td>\n",
              "      <td>2</td>\n",
              "      <td>169</td>\n",
              "      <td>82.0</td>\n",
              "      <td>150</td>\n",
              "      <td>100</td>\n",
              "      <td>1</td>\n",
              "      <td>1</td>\n",
              "      <td>0</td>\n",
              "      <td>0</td>\n",
              "      <td>1</td>\n",
              "      <td>1</td>\n",
              "      <td>28.710479</td>\n",
              "    </tr>\n",
              "    <tr>\n",
              "      <th>4</th>\n",
              "      <td>4</td>\n",
              "      <td>48</td>\n",
              "      <td>1</td>\n",
              "      <td>156</td>\n",
              "      <td>56.0</td>\n",
              "      <td>100</td>\n",
              "      <td>60</td>\n",
              "      <td>1</td>\n",
              "      <td>1</td>\n",
              "      <td>0</td>\n",
              "      <td>0</td>\n",
              "      <td>0</td>\n",
              "      <td>0</td>\n",
              "      <td>23.011177</td>\n",
              "    </tr>\n",
              "  </tbody>\n",
              "</table>\n",
              "</div>"
            ],
            "text/plain": [
              "   id  age  gender  height  weight  ...  smoke  alco  active  cardio        bmi\n",
              "0   0   50       2     168    62.0  ...      0     0       1       0  21.967120\n",
              "1   1   55       1     156    85.0  ...      0     0       1       1  34.927679\n",
              "2   2   52       1     165    64.0  ...      0     0       0       1  23.507805\n",
              "3   3   48       2     169    82.0  ...      0     0       1       1  28.710479\n",
              "4   4   48       1     156    56.0  ...      0     0       0       0  23.011177\n",
              "\n",
              "[5 rows x 14 columns]"
            ]
          },
          "metadata": {
            "tags": []
          },
          "execution_count": 10
        }
      ]
    },
    {
      "cell_type": "code",
      "metadata": {
        "id": "k3COdhcSXUCt",
        "outputId": "12788bd1-8adf-44f4-efbe-7acc02dedcac",
        "colab": {
          "base_uri": "https://localhost:8080/",
          "height": 34
        }
      },
      "source": [
        "#Dropping height, weight and id from the dataset. Height and weight features have been converted to BMI\n",
        "df1 = df.drop([\"id\", \"height\", \"weight\"], axis = 1)\n",
        "print(df1.shape)\n"
      ],
      "execution_count": null,
      "outputs": [
        {
          "output_type": "stream",
          "text": [
            "(68757, 11)\n"
          ],
          "name": "stdout"
        }
      ]
    },
    {
      "cell_type": "code",
      "metadata": {
        "id": "3o9-y2SqYqGe",
        "outputId": "fdd63769-eab7-4a55-caf8-18b0787dc41e",
        "colab": {
          "base_uri": "https://localhost:8080/",
          "height": 294
        }
      },
      "source": [
        "df1.describe()"
      ],
      "execution_count": null,
      "outputs": [
        {
          "output_type": "execute_result",
          "data": {
            "text/html": [
              "<div>\n",
              "<style scoped>\n",
              "    .dataframe tbody tr th:only-of-type {\n",
              "        vertical-align: middle;\n",
              "    }\n",
              "\n",
              "    .dataframe tbody tr th {\n",
              "        vertical-align: top;\n",
              "    }\n",
              "\n",
              "    .dataframe thead th {\n",
              "        text-align: right;\n",
              "    }\n",
              "</style>\n",
              "<table border=\"1\" class=\"dataframe\">\n",
              "  <thead>\n",
              "    <tr style=\"text-align: right;\">\n",
              "      <th></th>\n",
              "      <th>age</th>\n",
              "      <th>gender</th>\n",
              "      <th>ap_hi</th>\n",
              "      <th>ap_lo</th>\n",
              "      <th>cholesterol</th>\n",
              "      <th>gluc</th>\n",
              "      <th>smoke</th>\n",
              "      <th>alco</th>\n",
              "      <th>active</th>\n",
              "      <th>cardio</th>\n",
              "      <th>bmi</th>\n",
              "    </tr>\n",
              "  </thead>\n",
              "  <tbody>\n",
              "    <tr>\n",
              "      <th>count</th>\n",
              "      <td>68757.000000</td>\n",
              "      <td>68757.000000</td>\n",
              "      <td>68757.000000</td>\n",
              "      <td>68757.000000</td>\n",
              "      <td>68757.000000</td>\n",
              "      <td>68757.000000</td>\n",
              "      <td>68757.000000</td>\n",
              "      <td>68757.000000</td>\n",
              "      <td>68757.000000</td>\n",
              "      <td>68757.000000</td>\n",
              "      <td>68757.000000</td>\n",
              "    </tr>\n",
              "    <tr>\n",
              "      <th>mean</th>\n",
              "      <td>53.323414</td>\n",
              "      <td>1.349099</td>\n",
              "      <td>126.293817</td>\n",
              "      <td>81.318760</td>\n",
              "      <td>1.363818</td>\n",
              "      <td>1.225126</td>\n",
              "      <td>0.087976</td>\n",
              "      <td>0.053595</td>\n",
              "      <td>0.803322</td>\n",
              "      <td>0.494379</td>\n",
              "      <td>27.381203</td>\n",
              "    </tr>\n",
              "    <tr>\n",
              "      <th>std</th>\n",
              "      <td>6.768052</td>\n",
              "      <td>0.476689</td>\n",
              "      <td>17.681518</td>\n",
              "      <td>9.858513</td>\n",
              "      <td>0.678258</td>\n",
              "      <td>0.570987</td>\n",
              "      <td>0.283263</td>\n",
              "      <td>0.225217</td>\n",
              "      <td>0.397490</td>\n",
              "      <td>0.499972</td>\n",
              "      <td>5.043304</td>\n",
              "    </tr>\n",
              "    <tr>\n",
              "      <th>min</th>\n",
              "      <td>30.000000</td>\n",
              "      <td>1.000000</td>\n",
              "      <td>7.000000</td>\n",
              "      <td>0.000000</td>\n",
              "      <td>1.000000</td>\n",
              "      <td>1.000000</td>\n",
              "      <td>0.000000</td>\n",
              "      <td>0.000000</td>\n",
              "      <td>0.000000</td>\n",
              "      <td>0.000000</td>\n",
              "      <td>10.726644</td>\n",
              "    </tr>\n",
              "    <tr>\n",
              "      <th>25%</th>\n",
              "      <td>48.000000</td>\n",
              "      <td>1.000000</td>\n",
              "      <td>120.000000</td>\n",
              "      <td>80.000000</td>\n",
              "      <td>1.000000</td>\n",
              "      <td>1.000000</td>\n",
              "      <td>0.000000</td>\n",
              "      <td>0.000000</td>\n",
              "      <td>1.000000</td>\n",
              "      <td>0.000000</td>\n",
              "      <td>23.875115</td>\n",
              "    </tr>\n",
              "    <tr>\n",
              "      <th>50%</th>\n",
              "      <td>54.000000</td>\n",
              "      <td>1.000000</td>\n",
              "      <td>120.000000</td>\n",
              "      <td>80.000000</td>\n",
              "      <td>1.000000</td>\n",
              "      <td>1.000000</td>\n",
              "      <td>0.000000</td>\n",
              "      <td>0.000000</td>\n",
              "      <td>1.000000</td>\n",
              "      <td>0.000000</td>\n",
              "      <td>26.298488</td>\n",
              "    </tr>\n",
              "    <tr>\n",
              "      <th>75%</th>\n",
              "      <td>58.000000</td>\n",
              "      <td>2.000000</td>\n",
              "      <td>140.000000</td>\n",
              "      <td>90.000000</td>\n",
              "      <td>1.000000</td>\n",
              "      <td>1.000000</td>\n",
              "      <td>0.000000</td>\n",
              "      <td>0.000000</td>\n",
              "      <td>1.000000</td>\n",
              "      <td>1.000000</td>\n",
              "      <td>30.110991</td>\n",
              "    </tr>\n",
              "    <tr>\n",
              "      <th>max</th>\n",
              "      <td>65.000000</td>\n",
              "      <td>2.000000</td>\n",
              "      <td>240.000000</td>\n",
              "      <td>190.000000</td>\n",
              "      <td>3.000000</td>\n",
              "      <td>3.000000</td>\n",
              "      <td>1.000000</td>\n",
              "      <td>1.000000</td>\n",
              "      <td>1.000000</td>\n",
              "      <td>1.000000</td>\n",
              "      <td>50.000000</td>\n",
              "    </tr>\n",
              "  </tbody>\n",
              "</table>\n",
              "</div>"
            ],
            "text/plain": [
              "                age        gender  ...        cardio           bmi\n",
              "count  68757.000000  68757.000000  ...  68757.000000  68757.000000\n",
              "mean      53.323414      1.349099  ...      0.494379     27.381203\n",
              "std        6.768052      0.476689  ...      0.499972      5.043304\n",
              "min       30.000000      1.000000  ...      0.000000     10.726644\n",
              "25%       48.000000      1.000000  ...      0.000000     23.875115\n",
              "50%       54.000000      1.000000  ...      0.000000     26.298488\n",
              "75%       58.000000      2.000000  ...      1.000000     30.110991\n",
              "max       65.000000      2.000000  ...      1.000000     50.000000\n",
              "\n",
              "[8 rows x 11 columns]"
            ]
          },
          "metadata": {
            "tags": []
          },
          "execution_count": 12
        }
      ]
    },
    {
      "cell_type": "code",
      "metadata": {
        "id": "VCZtUn-Qhudd",
        "outputId": "bb51a0e8-f626-4203-c8e4-0e7d804d0be1",
        "colab": {
          "base_uri": "https://localhost:8080/",
          "height": 514
        }
      },
      "source": [
        "#As per the below graph, we see that the presence of CVD increases linearly with increase in age\n",
        "rcParams['figure.figsize'] = 11, 8\n",
        "sns.countplot(x='age', hue = 'cardio', data = df1, saturation=0.75, palette = \"Set1\")"
      ],
      "execution_count": null,
      "outputs": [
        {
          "output_type": "execute_result",
          "data": {
            "text/plain": [
              "<matplotlib.axes._subplots.AxesSubplot at 0x7fe19fad0898>"
            ]
          },
          "metadata": {
            "tags": []
          },
          "execution_count": 13
        },
        {
          "output_type": "display_data",
          "data": {
            "image/png": "[encoded data removed]",
            "text/plain": [
              "<Figure size 792x576 with 1 Axes>"
            ]
          },
          "metadata": {
            "tags": [],
            "needs_background": "light"
          }
        }
      ]
    },
    {
      "cell_type": "markdown",
      "metadata": {
        "id": "NCM6QWzODrR5"
      },
      "source": [
        "**Determining Correlation Between the columns**"
      ]
    },
    {
      "cell_type": "code",
      "metadata": {
        "id": "oNOQov1MDZCx",
        "outputId": "5ea916f5-dd41-423a-ea17-f2678957b4dd",
        "colab": {
          "base_uri": "https://localhost:8080/",
          "height": 386
        }
      },
      "source": [
        "df1.corr(method='pearson')"
      ],
      "execution_count": 224,
      "outputs": [
        {
          "output_type": "execute_result",
          "data": {
            "text/html": [
              "<div>\n",
              "<style scoped>\n",
              "    .dataframe tbody tr th:only-of-type {\n",
              "        vertical-align: middle;\n",
              "    }\n",
              "\n",
              "    .dataframe tbody tr th {\n",
              "        vertical-align: top;\n",
              "    }\n",
              "\n",
              "    .dataframe thead th {\n",
              "        text-align: right;\n",
              "    }\n",
              "</style>\n",
              "<table border=\"1\" class=\"dataframe\">\n",
              "  <thead>\n",
              "    <tr style=\"text-align: right;\">\n",
              "      <th></th>\n",
              "      <th>age</th>\n",
              "      <th>gender</th>\n",
              "      <th>ap_hi</th>\n",
              "      <th>ap_lo</th>\n",
              "      <th>cholesterol</th>\n",
              "      <th>gluc</th>\n",
              "      <th>smoke</th>\n",
              "      <th>alco</th>\n",
              "      <th>active</th>\n",
              "      <th>cardio</th>\n",
              "      <th>bmi</th>\n",
              "    </tr>\n",
              "  </thead>\n",
              "  <tbody>\n",
              "    <tr>\n",
              "      <th>age</th>\n",
              "      <td>1.000000</td>\n",
              "      <td>-0.022878</td>\n",
              "      <td>0.198274</td>\n",
              "      <td>0.150921</td>\n",
              "      <td>0.155191</td>\n",
              "      <td>0.098812</td>\n",
              "      <td>-0.048009</td>\n",
              "      <td>-0.029291</td>\n",
              "      <td>-0.010269</td>\n",
              "      <td>0.239593</td>\n",
              "      <td>0.105550</td>\n",
              "    </tr>\n",
              "    <tr>\n",
              "      <th>gender</th>\n",
              "      <td>-0.022878</td>\n",
              "      <td>1.000000</td>\n",
              "      <td>0.059205</td>\n",
              "      <td>0.065574</td>\n",
              "      <td>-0.036109</td>\n",
              "      <td>-0.020396</td>\n",
              "      <td>0.338895</td>\n",
              "      <td>0.170909</td>\n",
              "      <td>0.005516</td>\n",
              "      <td>0.008020</td>\n",
              "      <td>-0.110535</td>\n",
              "    </tr>\n",
              "    <tr>\n",
              "      <th>ap_hi</th>\n",
              "      <td>0.198274</td>\n",
              "      <td>0.059205</td>\n",
              "      <td>1.000000</td>\n",
              "      <td>0.645713</td>\n",
              "      <td>0.185903</td>\n",
              "      <td>0.086894</td>\n",
              "      <td>0.028234</td>\n",
              "      <td>0.031794</td>\n",
              "      <td>0.000530</td>\n",
              "      <td>0.401739</td>\n",
              "      <td>0.253254</td>\n",
              "    </tr>\n",
              "    <tr>\n",
              "      <th>ap_lo</th>\n",
              "      <td>0.150921</td>\n",
              "      <td>0.065574</td>\n",
              "      <td>0.645713</td>\n",
              "      <td>1.000000</td>\n",
              "      <td>0.155010</td>\n",
              "      <td>0.074849</td>\n",
              "      <td>0.024681</td>\n",
              "      <td>0.042980</td>\n",
              "      <td>-0.001141</td>\n",
              "      <td>0.328772</td>\n",
              "      <td>0.233784</td>\n",
              "    </tr>\n",
              "    <tr>\n",
              "      <th>cholesterol</th>\n",
              "      <td>0.155191</td>\n",
              "      <td>-0.036109</td>\n",
              "      <td>0.185903</td>\n",
              "      <td>0.155010</td>\n",
              "      <td>1.000000</td>\n",
              "      <td>0.449889</td>\n",
              "      <td>0.010013</td>\n",
              "      <td>0.035927</td>\n",
              "      <td>0.009058</td>\n",
              "      <td>0.221571</td>\n",
              "      <td>0.173495</td>\n",
              "    </tr>\n",
              "    <tr>\n",
              "      <th>gluc</th>\n",
              "      <td>0.098812</td>\n",
              "      <td>-0.020396</td>\n",
              "      <td>0.086894</td>\n",
              "      <td>0.074849</td>\n",
              "      <td>0.449889</td>\n",
              "      <td>1.000000</td>\n",
              "      <td>-0.005556</td>\n",
              "      <td>0.011356</td>\n",
              "      <td>-0.007858</td>\n",
              "      <td>0.089081</td>\n",
              "      <td>0.117289</td>\n",
              "    </tr>\n",
              "    <tr>\n",
              "      <th>smoke</th>\n",
              "      <td>-0.048009</td>\n",
              "      <td>0.338895</td>\n",
              "      <td>0.028234</td>\n",
              "      <td>0.024681</td>\n",
              "      <td>0.010013</td>\n",
              "      <td>-0.005556</td>\n",
              "      <td>1.000000</td>\n",
              "      <td>0.340331</td>\n",
              "      <td>0.025538</td>\n",
              "      <td>-0.016277</td>\n",
              "      <td>-0.033223</td>\n",
              "    </tr>\n",
              "    <tr>\n",
              "      <th>alco</th>\n",
              "      <td>-0.029291</td>\n",
              "      <td>0.170909</td>\n",
              "      <td>0.031794</td>\n",
              "      <td>0.042980</td>\n",
              "      <td>0.035927</td>\n",
              "      <td>0.011356</td>\n",
              "      <td>0.340331</td>\n",
              "      <td>1.000000</td>\n",
              "      <td>0.025305</td>\n",
              "      <td>-0.007722</td>\n",
              "      <td>0.018697</td>\n",
              "    </tr>\n",
              "    <tr>\n",
              "      <th>active</th>\n",
              "      <td>-0.010269</td>\n",
              "      <td>0.005516</td>\n",
              "      <td>0.000530</td>\n",
              "      <td>-0.001141</td>\n",
              "      <td>0.009058</td>\n",
              "      <td>-0.007858</td>\n",
              "      <td>0.025538</td>\n",
              "      <td>0.025305</td>\n",
              "      <td>1.000000</td>\n",
              "      <td>-0.037435</td>\n",
              "      <td>-0.015306</td>\n",
              "    </tr>\n",
              "    <tr>\n",
              "      <th>cardio</th>\n",
              "      <td>0.239593</td>\n",
              "      <td>0.008020</td>\n",
              "      <td>0.401739</td>\n",
              "      <td>0.328772</td>\n",
              "      <td>0.221571</td>\n",
              "      <td>0.089081</td>\n",
              "      <td>-0.016277</td>\n",
              "      <td>-0.007722</td>\n",
              "      <td>-0.037435</td>\n",
              "      <td>1.000000</td>\n",
              "      <td>0.192712</td>\n",
              "    </tr>\n",
              "    <tr>\n",
              "      <th>bmi</th>\n",
              "      <td>0.105550</td>\n",
              "      <td>-0.110535</td>\n",
              "      <td>0.253254</td>\n",
              "      <td>0.233784</td>\n",
              "      <td>0.173495</td>\n",
              "      <td>0.117289</td>\n",
              "      <td>-0.033223</td>\n",
              "      <td>0.018697</td>\n",
              "      <td>-0.015306</td>\n",
              "      <td>0.192712</td>\n",
              "      <td>1.000000</td>\n",
              "    </tr>\n",
              "  </tbody>\n",
              "</table>\n",
              "</div>"
            ],
            "text/plain": [
              "                  age    gender     ap_hi  ...    active    cardio       bmi\n",
              "age          1.000000 -0.022878  0.198274  ... -0.010269  0.239593  0.105550\n",
              "gender      -0.022878  1.000000  0.059205  ...  0.005516  0.008020 -0.110535\n",
              "ap_hi        0.198274  0.059205  1.000000  ...  0.000530  0.401739  0.253254\n",
              "ap_lo        0.150921  0.065574  0.645713  ... -0.001141  0.328772  0.233784\n",
              "cholesterol  0.155191 -0.036109  0.185903  ...  0.009058  0.221571  0.173495\n",
              "gluc         0.098812 -0.020396  0.086894  ... -0.007858  0.089081  0.117289\n",
              "smoke       -0.048009  0.338895  0.028234  ...  0.025538 -0.016277 -0.033223\n",
              "alco        -0.029291  0.170909  0.031794  ...  0.025305 -0.007722  0.018697\n",
              "active      -0.010269  0.005516  0.000530  ...  1.000000 -0.037435 -0.015306\n",
              "cardio       0.239593  0.008020  0.401739  ... -0.037435  1.000000  0.192712\n",
              "bmi          0.105550 -0.110535  0.253254  ... -0.015306  0.192712  1.000000\n",
              "\n",
              "[11 rows x 11 columns]"
            ]
          },
          "metadata": {
            "tags": []
          },
          "execution_count": 224
        }
      ]
    },
    {
      "cell_type": "code",
      "metadata": {
        "id": "_y3K6sxXWlVN",
        "outputId": "b41a35fe-3086-4b6d-9981-7b9bf4c8b768",
        "colab": {
          "base_uri": "https://localhost:8080/",
          "height": 613
        }
      },
      "source": [
        "plt.figure(figsize=(10,10))\n",
        "sns.heatmap(df1.corr(), annot = True)"
      ],
      "execution_count": null,
      "outputs": [
        {
          "output_type": "execute_result",
          "data": {
            "text/plain": [
              "<matplotlib.axes._subplots.AxesSubplot at 0x7f8ebafad160>"
            ]
          },
          "metadata": {
            "tags": []
          },
          "execution_count": 188
        },
        {
          "output_type": "display_data",
          "data": {
            "image/png": "[encoded data removed]",
            "text/plain": [
              "<Figure size 720x720 with 2 Axes>"
            ]
          },
          "metadata": {
            "tags": [],
            "needs_background": "light"
          }
        }
      ]
    },
    {
      "cell_type": "markdown",
      "metadata": {
        "id": "_6I66Ctt_4XL"
      },
      "source": [
        "**Determining Multicolinearity in the Dataset**"
      ]
    },
    {
      "cell_type": "code",
      "metadata": {
        "id": "P47GxMGy_zfV"
      },
      "source": [
        "from statsmodels.stats.outliers_influence import variance_inflation_factor\n",
        "\n",
        "def calc_vif(X):\n",
        "\n",
        "    # Calculating VIF\n",
        "    vif = pd.DataFrame()\n",
        "    vif[\"variables\"] = X.columns\n",
        "    vif[\"VIF\"] = [variance_inflation_factor(X.values, i) for i in range(X.shape[1])]\n",
        "\n",
        "    return(vif)"
      ],
      "execution_count": 222,
      "outputs": []
    },
    {
      "cell_type": "code",
      "metadata": {
        "id": "_o_hyDdF_2dS",
        "outputId": "d1b69018-cf24-4131-b8a5-01b899d83fed",
        "colab": {
          "base_uri": "https://localhost:8080/",
          "height": 386
        }
      },
      "source": [
        "X = df1\n",
        "calc_vif(X)"
      ],
      "execution_count": 223,
      "outputs": [
        {
          "output_type": "execute_result",
          "data": {
            "text/html": [
              "<div>\n",
              "<style scoped>\n",
              "    .dataframe tbody tr th:only-of-type {\n",
              "        vertical-align: middle;\n",
              "    }\n",
              "\n",
              "    .dataframe tbody tr th {\n",
              "        vertical-align: top;\n",
              "    }\n",
              "\n",
              "    .dataframe thead th {\n",
              "        text-align: right;\n",
              "    }\n",
              "</style>\n",
              "<table border=\"1\" class=\"dataframe\">\n",
              "  <thead>\n",
              "    <tr style=\"text-align: right;\">\n",
              "      <th></th>\n",
              "      <th>variables</th>\n",
              "      <th>VIF</th>\n",
              "    </tr>\n",
              "  </thead>\n",
              "  <tbody>\n",
              "    <tr>\n",
              "      <th>0</th>\n",
              "      <td>age</td>\n",
              "      <td>47.861919</td>\n",
              "    </tr>\n",
              "    <tr>\n",
              "      <th>1</th>\n",
              "      <td>gender</td>\n",
              "      <td>9.877330</td>\n",
              "    </tr>\n",
              "    <tr>\n",
              "      <th>2</th>\n",
              "      <td>ap_hi</td>\n",
              "      <td>95.909555</td>\n",
              "    </tr>\n",
              "    <tr>\n",
              "      <th>3</th>\n",
              "      <td>ap_lo</td>\n",
              "      <td>105.412339</td>\n",
              "    </tr>\n",
              "    <tr>\n",
              "      <th>4</th>\n",
              "      <td>cholesterol</td>\n",
              "      <td>6.751961</td>\n",
              "    </tr>\n",
              "    <tr>\n",
              "      <th>5</th>\n",
              "      <td>gluc</td>\n",
              "      <td>7.013554</td>\n",
              "    </tr>\n",
              "    <tr>\n",
              "      <th>6</th>\n",
              "      <td>smoke</td>\n",
              "      <td>1.367274</td>\n",
              "    </tr>\n",
              "    <tr>\n",
              "      <th>7</th>\n",
              "      <td>alco</td>\n",
              "      <td>1.203721</td>\n",
              "    </tr>\n",
              "    <tr>\n",
              "      <th>8</th>\n",
              "      <td>active</td>\n",
              "      <td>4.967397</td>\n",
              "    </tr>\n",
              "    <tr>\n",
              "      <th>9</th>\n",
              "      <td>cardio</td>\n",
              "      <td>2.284870</td>\n",
              "    </tr>\n",
              "    <tr>\n",
              "      <th>10</th>\n",
              "      <td>bmi</td>\n",
              "      <td>31.408481</td>\n",
              "    </tr>\n",
              "  </tbody>\n",
              "</table>\n",
              "</div>"
            ],
            "text/plain": [
              "      variables         VIF\n",
              "0           age   47.861919\n",
              "1        gender    9.877330\n",
              "2         ap_hi   95.909555\n",
              "3         ap_lo  105.412339\n",
              "4   cholesterol    6.751961\n",
              "5          gluc    7.013554\n",
              "6         smoke    1.367274\n",
              "7          alco    1.203721\n",
              "8        active    4.967397\n",
              "9        cardio    2.284870\n",
              "10          bmi   31.408481"
            ]
          },
          "metadata": {
            "tags": []
          },
          "execution_count": 223
        }
      ]
    },
    {
      "cell_type": "markdown",
      "metadata": {
        "id": "BemihKHZGAqN"
      },
      "source": [
        "### **Splitting the Data**"
      ]
    },
    {
      "cell_type": "code",
      "metadata": {
        "id": "V0pyvO-eg-n1",
        "outputId": "0ffa2320-a6a2-497c-8d0d-e3d16cc2dab3",
        "colab": {
          "base_uri": "https://localhost:8080/",
          "height": 34
        }
      },
      "source": [
        "#Splitting Train and Test set. 80-20 split\n",
        "\n",
        "def mydf_splitter(my_df, num_rows):\n",
        "  return my_df[:num_rows].copy(),my_df[num_rows:]\n",
        "\n",
        "df_train,df_test = mydf_splitter(df1, 50000)\n",
        "\n",
        "print(df_train.shape, df_test.shape)"
      ],
      "execution_count": null,
      "outputs": [
        {
          "output_type": "stream",
          "text": [
            "(50000, 11) (18757, 11)\n"
          ],
          "name": "stdout"
        }
      ]
    },
    {
      "cell_type": "code",
      "metadata": {
        "id": "PgSuwYTyg-wH",
        "outputId": "23fb92cf-adcb-4ac6-e4ba-9b17523668f9",
        "colab": {
          "base_uri": "https://localhost:8080/",
          "height": 52
        }
      },
      "source": [
        "x = df_train.drop(\"cardio\", axis = 1)\n",
        "y = df_train['cardio']\n",
        "print(x.shape)\n",
        "print(y.shape)"
      ],
      "execution_count": null,
      "outputs": [
        {
          "output_type": "stream",
          "text": [
            "(50000, 10)\n",
            "(50000,)\n"
          ],
          "name": "stdout"
        }
      ]
    },
    {
      "cell_type": "code",
      "metadata": {
        "id": "BmZZMVC2g-0H",
        "outputId": "bd2214d2-bc42-4973-ca67-1cc95f9985bd",
        "colab": {
          "base_uri": "https://localhost:8080/",
          "height": 34
        }
      },
      "source": [
        "#Splitting Training set into Training and Validation Set\n",
        "x_train, x_val, y_train, y_val = train_test_split(x, y, random_state = 1)\n",
        "print(x_train.shape, x_val.shape, y_train.shape, y_val.shape)"
      ],
      "execution_count": null,
      "outputs": [
        {
          "output_type": "stream",
          "text": [
            "(37500, 10) (12500, 10) (37500,) (12500,)\n"
          ],
          "name": "stdout"
        }
      ]
    },
    {
      "cell_type": "code",
      "metadata": {
        "id": "IbZSSBckkPU3",
        "outputId": "d9400219-cac6-4e96-b0fe-981a64d798bc",
        "colab": {
          "base_uri": "https://localhost:8080/",
          "height": 34
        }
      },
      "source": [
        "#Prepping test set\n",
        "x_test = df_test.drop(\"cardio\", axis = 1)\n",
        "y_test = df_test[\"cardio\"]\n",
        "print(x_test.shape, y_test.shape)"
      ],
      "execution_count": null,
      "outputs": [
        {
          "output_type": "stream",
          "text": [
            "(18757, 10) (18757,)\n"
          ],
          "name": "stdout"
        }
      ]
    },
    {
      "cell_type": "markdown",
      "metadata": {
        "id": "q43FTOB8gV2o"
      },
      "source": [
        "## **Training the Models**\n",
        "\n",
        "**1. Random Forests with GridSearchCV**"
      ]
    },
    {
      "cell_type": "code",
      "metadata": {
        "id": "hbWoPlhdbSLi",
        "outputId": "9d41a894-1aa9-46b5-dff7-639a703251e2",
        "colab": {
          "base_uri": "https://localhost:8080/",
          "height": 364
        }
      },
      "source": [
        "#Model is built and the best hyperparameters are used.\n",
        "model1_rf = GridSearchCV(estimator=RandomForestClassifier(), param_grid={'n_estimators': [300], 'max_depth': [10]}, cv=5)\n",
        "\n",
        "model1_rf.fit(x_train, y_train)"
      ],
      "execution_count": 215,
      "outputs": [
        {
          "output_type": "execute_result",
          "data": {
            "text/plain": [
              "GridSearchCV(cv=5, error_score=nan,\n",
              "             estimator=RandomForestClassifier(bootstrap=True, ccp_alpha=0.0,\n",
              "                                              class_weight=None,\n",
              "                                              criterion='gini', max_depth=None,\n",
              "                                              max_features='auto',\n",
              "                                              max_leaf_nodes=None,\n",
              "                                              max_samples=None,\n",
              "                                              min_impurity_decrease=0.0,\n",
              "                                              min_impurity_split=None,\n",
              "                                              min_samples_leaf=1,\n",
              "                                              min_samples_split=2,\n",
              "                                              min_weight_fraction_leaf=0.0,\n",
              "                                              n_estimators=100, n_jobs=None,\n",
              "                                              oob_score=False,\n",
              "                                              random_state=None, verbose=0,\n",
              "                                              warm_start=False),\n",
              "             iid='deprecated', n_jobs=None,\n",
              "             param_grid={'max_depth': [10], 'n_estimators': [300]},\n",
              "             pre_dispatch='2*n_jobs', refit=True, return_train_score=False,\n",
              "             scoring=None, verbose=0)"
            ]
          },
          "metadata": {
            "tags": []
          },
          "execution_count": 215
        }
      ]
    },
    {
      "cell_type": "code",
      "metadata": {
        "id": "WQP5B_UjjaOu",
        "outputId": "9d12dff9-b27c-44a9-bade-8c2aedd353df",
        "colab": {
          "base_uri": "https://localhost:8080/",
          "height": 34
        }
      },
      "source": [
        "#Predicting Training Set Accuracy\n",
        "y_pred = model1_rf.predict(x_train)\n",
        "\n",
        "model1_rf_accuracy = accuracy_score(y_train, y_pred)\n",
        "print(model1_rf_accuracy, model1_rf.best_params_ )"
      ],
      "execution_count": 216,
      "outputs": [
        {
          "output_type": "stream",
          "text": [
            "0.75536 {'max_depth': 10, 'n_estimators': 300}\n"
          ],
          "name": "stdout"
        }
      ]
    },
    {
      "cell_type": "code",
      "metadata": {
        "id": "9puWMwaybSgi",
        "outputId": "206aeaf0-bea9-4006-8db1-e461a711a350",
        "colab": {
          "base_uri": "https://localhost:8080/",
          "height": 34
        }
      },
      "source": [
        "#Predicting Validation Set Accuracy\n",
        "y_pred1 = model1_rf.predict(x_val)\n",
        "\n",
        "model1_rf_cr = classification_report(y_val, y_pred1)\n",
        "print(model1_rf_accuracy1)"
      ],
      "execution_count": 233,
      "outputs": [
        {
          "output_type": "stream",
          "text": [
            "0.73768\n"
          ],
          "name": "stdout"
        }
      ]
    },
    {
      "cell_type": "code",
      "metadata": {
        "id": "FgnpdsR9NwMz"
      },
      "source": [
        "model1_rf_accuracy1 = accuracy_score(y_val, y_pred1)"
      ],
      "execution_count": 232,
      "outputs": []
    },
    {
      "cell_type": "code",
      "metadata": {
        "id": "eK6vgpcmdeI-",
        "outputId": "d8ea8c08-daf3-4e94-d9fb-25cd4fd3891c",
        "colab": {
          "base_uri": "https://localhost:8080/",
          "height": 173
        }
      },
      "source": [
        "#Predicting Test Set Accuracy\n",
        "y_pred2 = model1_rf.predict(x_test)\n",
        "model1_rf_cr1 = classification_report(y_test, y_pred2)\n",
        "print(model1_rf_accuracy2)"
      ],
      "execution_count": 234,
      "outputs": [
        {
          "output_type": "stream",
          "text": [
            "              precision    recall  f1-score   support\n",
            "\n",
            "           0       0.71      0.80      0.75      9444\n",
            "           1       0.76      0.67      0.71      9313\n",
            "\n",
            "    accuracy                           0.73     18757\n",
            "   macro avg       0.74      0.73      0.73     18757\n",
            "weighted avg       0.74      0.73      0.73     18757\n",
            "\n"
          ],
          "name": "stdout"
        }
      ]
    },
    {
      "cell_type": "code",
      "metadata": {
        "id": "0sHMz2foOEqh"
      },
      "source": [
        "model1_rf_accuracy2 = accuracy_score(y_test, y_pred2)"
      ],
      "execution_count": 237,
      "outputs": []
    },
    {
      "cell_type": "code",
      "metadata": {
        "id": "XHyCGVJiAqXV",
        "outputId": "8d9da176-81cd-47d9-9bf7-d3de7ce83600",
        "colab": {
          "base_uri": "https://localhost:8080/",
          "height": 296
        }
      },
      "source": [
        "#Plotting TP, FP, FN and TN\n",
        "confusion_matrix = pd.crosstab(y_test, y_pred2, rownames=['Actual'], colnames = ['Predicted'])\n",
        "sns.heatmap(confusion_matrix, annot=True)"
      ],
      "execution_count": 219,
      "outputs": [
        {
          "output_type": "execute_result",
          "data": {
            "text/plain": [
              "<matplotlib.axes._subplots.AxesSubplot at 0x7f8eb1211390>"
            ]
          },
          "metadata": {
            "tags": []
          },
          "execution_count": 219
        },
        {
          "output_type": "display_data",
          "data": {
            "image/png": "[encoded data removed]",
            "text/plain": [
              "<Figure size 432x288 with 2 Axes>"
            ]
          },
          "metadata": {
            "tags": [],
            "needs_background": "light"
          }
        }
      ]
    },
    {
      "cell_type": "code",
      "metadata": {
        "id": "AMNMaUDTA0ip",
        "outputId": "41ec9905-7c6a-4aa1-8491-0bb93d50c423",
        "colab": {
          "base_uri": "https://localhost:8080/",
          "height": 34
        }
      },
      "source": [
        "print('Accuracy :', metrics.accuracy_score(y_test, y_pred2))\n",
        "plt.show()"
      ],
      "execution_count": 220,
      "outputs": [
        {
          "output_type": "stream",
          "text": [
            "Accuracy : 0.732793090579517\n"
          ],
          "name": "stdout"
        }
      ]
    },
    {
      "cell_type": "markdown",
      "metadata": {
        "id": "Nb3B8o61tjbJ"
      },
      "source": [
        "**Random Forests Model Summary**\n",
        "\n",
        "1. Are there any model assumptions violated?\n",
        "\n",
        "    No model assumptions are violated\n",
        "\n",
        "2. Is there any multicollinearity in the model?\n",
        "\n",
        "    Yes, there are a few features which exhibit multicollinearity as per  the VIF table\n",
        "\n",
        "3.  In the multivariate models are predictor variables independent of all the other predictor variables?\n",
        "\n",
        "    Multivariate models have not been used\n",
        "\n",
        "4. Does the model make sense?\n",
        "\n",
        "    The Random Forest model exhibits high variance for the training set, overfitting the model.\n",
        "\n",
        "5. Does regularization help?\n",
        "\n",
        "    Regularization was not required for the model.\n",
        "\n",
        "\n",
        "7. Which hyperparameters are important?\n",
        "\n",
        "   The n_estimators and the max_depth of the trees were important which prevented the model from overfitting\n"
      ]
    },
    {
      "cell_type": "markdown",
      "metadata": {
        "id": "00fzbLu2DvW2"
      },
      "source": [
        "### **2. Logistic Regression**"
      ]
    },
    {
      "cell_type": "code",
      "metadata": {
        "id": "2TBmXnuRgQxp"
      },
      "source": [
        "#Building a Model and tuning the Hyperparameters\n",
        "lr = LogisticRegression()\n",
        "solvers = ['newton-cg', 'lbfgs', 'liblinear']\n",
        "penalty = ['l2']\n",
        "c_values = [100, 10, 1.0, 0.1, 0.01]\n",
        "\n",
        "paramgrid = dict(solver = solvers, penalty=penalty, C= c_values)\n",
        "cv = RepeatedStratifiedKFold(n_splits = 10, n_repeats = 3, random_state = 1)\n",
        "model2 = GridSearchCV(estimator=lr, param_grid=paramgrid, n_jobs=-1, cv = cv, scoring = 'accuracy', error_score=0)\n",
        "grid_result = model2.fit(x_train, y_train)\n",
        "\n"
      ],
      "execution_count": null,
      "outputs": []
    },
    {
      "cell_type": "code",
      "metadata": {
        "id": "HM-mffLPhVW2",
        "outputId": "75da0214-a4c2-43a8-b8c6-c714e0422e46",
        "colab": {
          "base_uri": "https://localhost:8080/",
          "height": 34
        }
      },
      "source": [
        "print(\"Best: %f using %s\" % (model2.best_score_, model2.best_params_))"
      ],
      "execution_count": null,
      "outputs": [
        {
          "output_type": "stream",
          "text": [
            "Best: 0.725236 using {'C': 1.0, 'penalty': 'l2', 'solver': 'liblinear'}\n"
          ],
          "name": "stdout"
        }
      ]
    },
    {
      "cell_type": "code",
      "metadata": {
        "id": "0Ulkq7QkiAyb",
        "outputId": "e7bf1534-ec5b-4f9c-9f58-a6dd57e51fce",
        "colab": {
          "base_uri": "https://localhost:8080/",
          "height": 277
        }
      },
      "source": [
        "means = model2.cv_results_['mean_test_score']\n",
        "stds = model2.cv_results_['std_test_score']\n",
        "params = model2.cv_results_['params']\n",
        "for mean, stdev, param in zip(means, stds, params):\n",
        "  print(\"%f (%f) with: %r\" % (mean, stdev, param))"
      ],
      "execution_count": null,
      "outputs": [
        {
          "output_type": "stream",
          "text": [
            "0.724791 (0.005074) with: {'C': 100, 'penalty': 'l2', 'solver': 'newton-cg'}\n",
            "0.704267 (0.021767) with: {'C': 100, 'penalty': 'l2', 'solver': 'lbfgs'}\n",
            "0.724782 (0.005066) with: {'C': 100, 'penalty': 'l2', 'solver': 'liblinear'}\n",
            "0.724782 (0.005095) with: {'C': 10, 'penalty': 'l2', 'solver': 'newton-cg'}\n",
            "0.704640 (0.022229) with: {'C': 10, 'penalty': 'l2', 'solver': 'lbfgs'}\n",
            "0.724889 (0.005026) with: {'C': 10, 'penalty': 'l2', 'solver': 'liblinear'}\n",
            "0.724809 (0.005095) with: {'C': 1.0, 'penalty': 'l2', 'solver': 'newton-cg'}\n",
            "0.707316 (0.016623) with: {'C': 1.0, 'penalty': 'l2', 'solver': 'lbfgs'}\n",
            "0.725236 (0.004757) with: {'C': 1.0, 'penalty': 'l2', 'solver': 'liblinear'}\n",
            "0.724827 (0.005071) with: {'C': 0.1, 'penalty': 'l2', 'solver': 'newton-cg'}\n",
            "0.700098 (0.019787) with: {'C': 0.1, 'penalty': 'l2', 'solver': 'lbfgs'}\n",
            "0.724356 (0.005383) with: {'C': 0.1, 'penalty': 'l2', 'solver': 'liblinear'}\n",
            "0.724613 (0.005223) with: {'C': 0.01, 'penalty': 'l2', 'solver': 'newton-cg'}\n",
            "0.714009 (0.015541) with: {'C': 0.01, 'penalty': 'l2', 'solver': 'lbfgs'}\n",
            "0.702462 (0.005975) with: {'C': 0.01, 'penalty': 'l2', 'solver': 'liblinear'}\n"
          ],
          "name": "stdout"
        }
      ]
    },
    {
      "cell_type": "code",
      "metadata": {
        "id": "HpwEtXWwbS0H",
        "outputId": "85c94937-0c16-4d96-f369-30558ec7b8df",
        "colab": {
          "base_uri": "https://localhost:8080/",
          "height": 260
        }
      },
      "source": [
        "#Building the Logistic Regression model with Best params\n",
        "solvers = ['liblinear']\n",
        "penalty = ['l2']\n",
        "c_values = [1.0]\n",
        "\n",
        "paramgrid2 = dict(solver = solvers, penalty=penalty, C= c_values)\n",
        "model_lr = GridSearchCV(estimator=LogisticRegression(), param_grid=paramgrid2,n_jobs=-1, cv = 3)\n",
        "model_lr.fit(x_train, y_train)"
      ],
      "execution_count": null,
      "outputs": [
        {
          "output_type": "execute_result",
          "data": {
            "text/plain": [
              "GridSearchCV(cv=3, error_score=nan,\n",
              "             estimator=LogisticRegression(C=1.0, class_weight=None, dual=False,\n",
              "                                          fit_intercept=True,\n",
              "                                          intercept_scaling=1, l1_ratio=None,\n",
              "                                          max_iter=100, multi_class='auto',\n",
              "                                          n_jobs=None, penalty='l2',\n",
              "                                          random_state=None, solver='lbfgs',\n",
              "                                          tol=0.0001, verbose=0,\n",
              "                                          warm_start=False),\n",
              "             iid='deprecated', n_jobs=-1,\n",
              "             param_grid={'C': [1.0], 'penalty': ['l2'],\n",
              "                         'solver': ['liblinear']},\n",
              "             pre_dispatch='2*n_jobs', refit=True, return_train_score=False,\n",
              "             scoring=None, verbose=0)"
            ]
          },
          "metadata": {
            "tags": []
          },
          "execution_count": 181
        }
      ]
    },
    {
      "cell_type": "code",
      "metadata": {
        "id": "0eACc2hFDif4",
        "outputId": "348bb19e-0c53-4a86-9c6f-efca504aa32f",
        "colab": {
          "base_uri": "https://localhost:8080/",
          "height": 173
        }
      },
      "source": [
        "#Training Set Accuracy\n",
        "y_pred10 = model_lr.predict(x_train)\n",
        "lr_classification = classification_report(y_train, y_pred10)\n",
        "print(accuracy_report5)"
      ],
      "execution_count": 238,
      "outputs": [
        {
          "output_type": "stream",
          "text": [
            "              precision    recall  f1-score   support\n",
            "\n",
            "           0       0.71      0.79      0.75      6340\n",
            "           1       0.76      0.68      0.71      6160\n",
            "\n",
            "    accuracy                           0.73     12500\n",
            "   macro avg       0.74      0.73      0.73     12500\n",
            "weighted avg       0.73      0.73      0.73     12500\n",
            "\n"
          ],
          "name": "stdout"
        }
      ]
    },
    {
      "cell_type": "code",
      "metadata": {
        "id": "FT_xphb2OWmd"
      },
      "source": [
        "accuracy_report10 = accuracy_score(y_train, y_pred10)"
      ],
      "execution_count": 239,
      "outputs": []
    },
    {
      "cell_type": "code",
      "metadata": {
        "id": "gO8CPxf5JVbV",
        "outputId": "339b0770-fc97-42be-e2d2-de03339a8df6",
        "colab": {
          "base_uri": "https://localhost:8080/",
          "height": 173
        }
      },
      "source": [
        "#Validation Set Accuracy\n",
        "y_pred5 = model_lr.predict(x_val)\n",
        "lr_classification1 = classification_report(y_val, y_pred5)\n",
        "print(lr_classification1)"
      ],
      "execution_count": 257,
      "outputs": [
        {
          "output_type": "stream",
          "text": [
            "              precision    recall  f1-score   support\n",
            "\n",
            "           0       0.71      0.79      0.75      6340\n",
            "           1       0.76      0.68      0.71      6160\n",
            "\n",
            "    accuracy                           0.73     12500\n",
            "   macro avg       0.74      0.73      0.73     12500\n",
            "weighted avg       0.73      0.73      0.73     12500\n",
            "\n"
          ],
          "name": "stdout"
        }
      ]
    },
    {
      "cell_type": "code",
      "metadata": {
        "id": "NWFv00F8Oo-S"
      },
      "source": [
        "accuracy_report5 = accuracy_score(y_val, y_pred5)"
      ],
      "execution_count": 258,
      "outputs": []
    },
    {
      "cell_type": "code",
      "metadata": {
        "id": "YOeUQToBET1Z",
        "outputId": "d18dc9b4-b627-4627-8910-3b4053812068",
        "colab": {
          "base_uri": "https://localhost:8080/",
          "height": 173
        }
      },
      "source": [
        "#Test Set Accuracy\n",
        "y_pred6 = model_lr.predict(x_test)\n",
        "lr_classification1 = classification_report(y_test, y_pred6)\n",
        "print(accuracy_report6)"
      ],
      "execution_count": 240,
      "outputs": [
        {
          "output_type": "stream",
          "text": [
            "              precision    recall  f1-score   support\n",
            "\n",
            "           0       0.70      0.78      0.74      9444\n",
            "           1       0.75      0.67      0.71      9313\n",
            "\n",
            "    accuracy                           0.72     18757\n",
            "   macro avg       0.73      0.72      0.72     18757\n",
            "weighted avg       0.73      0.72      0.72     18757\n",
            "\n"
          ],
          "name": "stdout"
        }
      ]
    },
    {
      "cell_type": "code",
      "metadata": {
        "id": "KuY6pniBOfuy"
      },
      "source": [
        "accuracy_report6 = accuracy_score(y_test, y_pred6)"
      ],
      "execution_count": 242,
      "outputs": []
    },
    {
      "cell_type": "code",
      "metadata": {
        "id": "PbzRdEMiEkQv",
        "outputId": "47693c81-6979-4a63-fbda-2f2afdfac333",
        "colab": {
          "base_uri": "https://localhost:8080/",
          "height": 296
        }
      },
      "source": [
        "#Plotting TP, FP, FN, TN\n",
        "confusion_matrix = pd.crosstab(y_test, y_pred6, rownames=['Actual'], colnames = ['Predicted'])\n",
        "sns.heatmap(confusion_matrix, annot=True)"
      ],
      "execution_count": null,
      "outputs": [
        {
          "output_type": "execute_result",
          "data": {
            "text/plain": [
              "<matplotlib.axes._subplots.AxesSubplot at 0x7f8ebb81e198>"
            ]
          },
          "metadata": {
            "tags": []
          },
          "execution_count": 184
        },
        {
          "output_type": "display_data",
          "data": {
            "image/png": "[encoded data removed]",
            "text/plain": [
              "<Figure size 432x288 with 2 Axes>"
            ]
          },
          "metadata": {
            "tags": [],
            "needs_background": "light"
          }
        }
      ]
    },
    {
      "cell_type": "code",
      "metadata": {
        "id": "aSwTZIs3E6DO",
        "outputId": "596d0992-f84f-47d5-c2ac-d13db7cd3b5d",
        "colab": {
          "base_uri": "https://localhost:8080/",
          "height": 34
        }
      },
      "source": [
        "print('Accuracy :', metrics.accuracy_score(y_test, y_pred6))\n",
        "plt.show()"
      ],
      "execution_count": null,
      "outputs": [
        {
          "output_type": "stream",
          "text": [
            "Accuracy : 0.7249560164205363\n"
          ],
          "name": "stdout"
        }
      ]
    },
    {
      "cell_type": "markdown",
      "metadata": {
        "id": "bDsHM2Q78T4D"
      },
      "source": [
        "## **Logistic Regression Model Summary**\n",
        "\n",
        "1. Are there any model assumptions violated?\n",
        "\n",
        "    No model assumptions are violated\n",
        "\n",
        "2. Is there any multicollinearity in the model?\n",
        "\n",
        "    Yes, there are a few features which exhibit multicollinearity as per  the VIF table\n",
        "\n",
        "3.  In the multivariate models are predictor variables independent of all the other predictor variables?\n",
        "\n",
        "    Multivariate models have not been used\n",
        "\n",
        "4. Does the model make sense?\n",
        "\n",
        "    The model exhibits a good bias-variance tradeoff.\n",
        "\n",
        "5. Does regularization help?\n",
        "\n",
        "    Regularization was not required for the model.\n",
        "\n",
        "\n",
        "7. Which hyperparameters are important?\n",
        "\n",
        "   The liblinear solver, penalty and c_values are the important hyperparameters"
      ]
    },
    {
      "cell_type": "markdown",
      "metadata": {
        "id": "CKhFQwCwHihf"
      },
      "source": [
        "### **3. Gradient Boosting Classifier**"
      ]
    },
    {
      "cell_type": "code",
      "metadata": {
        "id": "0StlLOeubS7Y",
        "outputId": "06acbaa1-a7b8-41a4-ecf3-87aa525731bc",
        "colab": {
          "base_uri": "https://localhost:8080/",
          "height": 433
        }
      },
      "source": [
        "#Model_3\n",
        "\n",
        "learning_rates = [0.05, 0.1, 0.25, 0.5, 0.75, 1]\n",
        "for learning_rate in learning_rates:\n",
        "    gb = GradientBoostingClassifier(n_estimators=100, learning_rate = learning_rate, max_features=5, max_depth = 4, random_state = 0)\n",
        "    gb.fit(x_train, y_train)\n",
        "    print(\"Learning rate: \", learning_rate)\n",
        "    print(\"Accuracy score (training): {0:.3f}\".format(gb.score(x_train, y_train)))\n",
        "    print(\"Accuracy score (validation): {0:.3f}\".format(gb.score(x_val, y_val)))\n",
        "    print()"
      ],
      "execution_count": null,
      "outputs": [
        {
          "output_type": "stream",
          "text": [
            "Learning rate:  0.05\n",
            "Accuracy score (training): 0.738\n",
            "Accuracy score (validation): 0.738\n",
            "\n",
            "Learning rate:  0.1\n",
            "Accuracy score (training): 0.741\n",
            "Accuracy score (validation): 0.739\n",
            "\n",
            "Learning rate:  0.25\n",
            "Accuracy score (training): 0.747\n",
            "Accuracy score (validation): 0.737\n",
            "\n",
            "Learning rate:  0.5\n",
            "Accuracy score (training): 0.754\n",
            "Accuracy score (validation): 0.730\n",
            "\n",
            "Learning rate:  0.75\n",
            "Accuracy score (training): 0.761\n",
            "Accuracy score (validation): 0.725\n",
            "\n",
            "Learning rate:  1\n",
            "Accuracy score (training): 0.761\n",
            "Accuracy score (validation): 0.719\n",
            "\n"
          ],
          "name": "stdout"
        }
      ]
    },
    {
      "cell_type": "code",
      "metadata": {
        "id": "p2l0uecHdIqR",
        "outputId": "b8b945de-2693-44f6-ec21-8d89d74f6745",
        "colab": {
          "base_uri": "https://localhost:8080/",
          "height": 190
        }
      },
      "source": [
        "#Building the model on the best params\n",
        "model3 = GradientBoostingClassifier(n_estimators = 100, learning_rate = 0.1, max_features=5, max_depth = 4, random_state=0)\n",
        "model3.fit(x_train, y_train)"
      ],
      "execution_count": null,
      "outputs": [
        {
          "output_type": "execute_result",
          "data": {
            "text/plain": [
              "GradientBoostingClassifier(ccp_alpha=0.0, criterion='friedman_mse', init=None,\n",
              "                           learning_rate=0.1, loss='deviance', max_depth=4,\n",
              "                           max_features=5, max_leaf_nodes=None,\n",
              "                           min_impurity_decrease=0.0, min_impurity_split=None,\n",
              "                           min_samples_leaf=1, min_samples_split=2,\n",
              "                           min_weight_fraction_leaf=0.0, n_estimators=100,\n",
              "                           n_iter_no_change=None, presort='deprecated',\n",
              "                           random_state=0, subsample=1.0, tol=0.0001,\n",
              "                           validation_fraction=0.1, verbose=0,\n",
              "                           warm_start=False)"
            ]
          },
          "metadata": {
            "tags": []
          },
          "execution_count": 136
        }
      ]
    },
    {
      "cell_type": "code",
      "metadata": {
        "id": "zjik9FCHGQZl",
        "outputId": "d9953e74-6822-4b5f-ad9c-7a50486e3b77",
        "colab": {
          "base_uri": "https://localhost:8080/",
          "height": 173
        }
      },
      "source": [
        "#Training Set Accuracy\n",
        "y_pred7 = model3.predict(x_train)\n",
        "gb_classification = classification_report(y_train, y_pred7)\n",
        "print(accuracy_report7)"
      ],
      "execution_count": 243,
      "outputs": [
        {
          "output_type": "stream",
          "text": [
            "              precision    recall  f1-score   support\n",
            "\n",
            "           0       0.72      0.79      0.76     18981\n",
            "           1       0.76      0.69      0.72     18519\n",
            "\n",
            "    accuracy                           0.74     37500\n",
            "   macro avg       0.74      0.74      0.74     37500\n",
            "weighted avg       0.74      0.74      0.74     37500\n",
            "\n"
          ],
          "name": "stdout"
        }
      ]
    },
    {
      "cell_type": "code",
      "metadata": {
        "id": "1a9X_mqKO5-p"
      },
      "source": [
        "accuracy_report7 = accuracy_score(y_train, y_pred7)"
      ],
      "execution_count": 244,
      "outputs": []
    },
    {
      "cell_type": "code",
      "metadata": {
        "id": "9GbCH9cjbTDU",
        "outputId": "41af5c50-f1eb-46eb-d365-181b83755c15",
        "colab": {
          "base_uri": "https://localhost:8080/",
          "height": 173
        }
      },
      "source": [
        "#Validation Set Accuracy\n",
        "y_pred8 = model3.predict(x_val)\n",
        "gb_classification1 = classification_report(y_val, y_pred8)\n",
        "print(gb_classification1)"
      ],
      "execution_count": 253,
      "outputs": [
        {
          "output_type": "stream",
          "text": [
            "              precision    recall  f1-score   support\n",
            "\n",
            "           0       0.72      0.79      0.75      6340\n",
            "           1       0.76      0.69      0.72      6160\n",
            "\n",
            "    accuracy                           0.74     12500\n",
            "   macro avg       0.74      0.74      0.74     12500\n",
            "weighted avg       0.74      0.74      0.74     12500\n",
            "\n"
          ],
          "name": "stdout"
        }
      ]
    },
    {
      "cell_type": "code",
      "metadata": {
        "id": "ouQEI5DoPB4W"
      },
      "source": [
        "accuracy_report8 = accuracy_score(y_val, y_pred8)"
      ],
      "execution_count": 246,
      "outputs": []
    },
    {
      "cell_type": "code",
      "metadata": {
        "id": "MI112JD6Gz04",
        "outputId": "2eecbd48-0782-41d2-eacf-2ff74711c6c2",
        "colab": {
          "base_uri": "https://localhost:8080/",
          "height": 173
        }
      },
      "source": [
        "#Test Set Accuracy\n",
        "y_pred9 = model3.predict(x_test)\n",
        "gb_classification2 = classification_report(y_test, y_pred9)\n",
        "print(gb_classification2)"
      ],
      "execution_count": 259,
      "outputs": [
        {
          "output_type": "stream",
          "text": [
            "              precision    recall  f1-score   support\n",
            "\n",
            "           0       0.72      0.78      0.75      9444\n",
            "           1       0.76      0.68      0.72      9313\n",
            "\n",
            "    accuracy                           0.73     18757\n",
            "   macro avg       0.74      0.73      0.73     18757\n",
            "weighted avg       0.74      0.73      0.73     18757\n",
            "\n"
          ],
          "name": "stdout"
        }
      ]
    },
    {
      "cell_type": "code",
      "metadata": {
        "id": "mfDyKNyfPGvI"
      },
      "source": [
        "accuracy_report9 = accuracy_score(y_test, y_pred9)"
      ],
      "execution_count": 263,
      "outputs": []
    },
    {
      "cell_type": "code",
      "metadata": {
        "id": "jsNZMYNuG7Q7",
        "outputId": "33bc2253-6d44-4fb5-cea6-c1f06b49bcf8",
        "colab": {
          "base_uri": "https://localhost:8080/",
          "height": 296
        }
      },
      "source": [
        "#Plotting TP, FP, FN and TN\n",
        "confusion_matrix = pd.crosstab(y_test, y_pred9, rownames=['Actual'], colnames = ['Predicted'])\n",
        "sns.heatmap(confusion_matrix, annot=True)"
      ],
      "execution_count": null,
      "outputs": [
        {
          "output_type": "execute_result",
          "data": {
            "text/plain": [
              "<matplotlib.axes._subplots.AxesSubplot at 0x7f8ebcf0b1d0>"
            ]
          },
          "metadata": {
            "tags": []
          },
          "execution_count": 140
        },
        {
          "output_type": "display_data",
          "data": {
            "image/png": "[encoded data removed]",
            "text/plain": [
              "<Figure size 432x288 with 2 Axes>"
            ]
          },
          "metadata": {
            "tags": [],
            "needs_background": "light"
          }
        }
      ]
    },
    {
      "cell_type": "code",
      "metadata": {
        "id": "3E3E1HTKToWg",
        "outputId": "48950f56-da62-4eaf-dc3c-0a466ea35aab",
        "colab": {
          "base_uri": "https://localhost:8080/",
          "height": 438
        }
      },
      "source": [
        "#Calculating Feature Importance for the model\n",
        "importance3 = model3.feature_importances_\n",
        "\n",
        "for i, v in enumerate(importance3):\n",
        "  print('Feature: %0d, Score: %.5f' %(i, v))\n",
        "\n",
        "pyplot.bar([x for x in range(len(importance3))], importance3)\n",
        "pyplot.show()"
      ],
      "execution_count": null,
      "outputs": [
        {
          "output_type": "stream",
          "text": [
            "Feature: 0, Score: 0.13422\n",
            "Feature: 1, Score: 0.00198\n",
            "Feature: 2, Score: 0.45340\n",
            "Feature: 3, Score: 0.24756\n",
            "Feature: 4, Score: 0.09893\n",
            "Feature: 5, Score: 0.00821\n",
            "Feature: 6, Score: 0.00359\n",
            "Feature: 7, Score: 0.00369\n",
            "Feature: 8, Score: 0.00714\n",
            "Feature: 9, Score: 0.04128\n"
          ],
          "name": "stdout"
        },
        {
          "output_type": "display_data",
          "data": {
            "image/png": "[encoded data removed]",
            "text/plain": [
              "<Figure size 432x288 with 1 Axes>"
            ]
          },
          "metadata": {
            "tags": [],
            "needs_background": "light"
          }
        }
      ]
    },
    {
      "cell_type": "code",
      "metadata": {
        "id": "KL3dhl2aHEt1",
        "outputId": "4e62f0d3-0857-43ad-a45b-5ce8ab541303",
        "colab": {
          "base_uri": "https://localhost:8080/",
          "height": 34
        }
      },
      "source": [
        "print('Accuracy :', metrics.accuracy_score(y_test, y_pred9))\n",
        "plt.show()"
      ],
      "execution_count": null,
      "outputs": [
        {
          "output_type": "stream",
          "text": [
            "Accuracy : 0.7347656874766754\n"
          ],
          "name": "stdout"
        }
      ]
    },
    {
      "cell_type": "markdown",
      "metadata": {
        "id": "kq3PpANQ9MnU"
      },
      "source": [
        "## **Gradient Boosting Model Summary**\n",
        "\n",
        "1. Are there any model assumptions violated?\n",
        "\n",
        "    No model assumptions were violated\n",
        "\n",
        "2. Is there any multicollinearity in the model?\n",
        "\n",
        "    Yes, there are a few features which exhibit multicollinearity as per  the VIF table\n",
        "\n",
        "3.  In the multivariate models are predictor variables independent of all the other predictor variables?\n",
        "\n",
        "    Multivariate models have not been used\n",
        "\n",
        "4. Does the model make sense?\n",
        "\n",
        "    The model exhibits a good bias-variance tradeoff and gives the max accuracy out of the three models\n",
        "\n",
        "5. Does regularization help?\n",
        "\n",
        "    Regularization was not required for the model.\n",
        "\n",
        "6. Which independent variables were significant?\n",
        "\n",
        "  The age, ap_hi, ap_lo and cholestrol were the significant variables.\n",
        "\n",
        "7. Which hyperparameters are important?\n",
        "\n",
        "  n_estimators, learning_rate, max_features, max_depth and random_state were some of the important hyperparameters"
      ]
    },
    {
      "cell_type": "markdown",
      "metadata": {
        "id": "2VOpSdWaP10p"
      },
      "source": [
        "### **Models Summary**"
      ]
    },
    {
      "cell_type": "code",
      "metadata": {
        "id": "ks57Hr3pIXbS"
      },
      "source": [
        "#Models Summary\n",
        "\n",
        "models = pd.DataFrame({'Model': ['Random Forests', 'Logistic Regression', 'GradientBoostingClassifier'],\n",
        "                       'Score_train': [model1_rf_accuracy, accuracy_report10, accuracy_report7],\n",
        "                       'Score_val': [model1_rf_accuracy1, accuracy_report5, accuracy_report8],\n",
        "                       'Score_test': [model1_rf_accuracy2, accuracy_report6, accuracy_report9]})"
      ],
      "execution_count": 264,
      "outputs": []
    },
    {
      "cell_type": "code",
      "metadata": {
        "id": "zB-yTNo7KlJX",
        "outputId": "da5bf1bd-c0df-4b94-ec22-4525f1807593",
        "colab": {
          "base_uri": "https://localhost:8080/",
          "height": 141
        }
      },
      "source": [
        "models.sort_values(by=['Score_train', 'Score_val', 'Score_test'], ascending=False)"
      ],
      "execution_count": 266,
      "outputs": [
        {
          "output_type": "execute_result",
          "data": {
            "text/html": [
              "<div>\n",
              "<style scoped>\n",
              "    .dataframe tbody tr th:only-of-type {\n",
              "        vertical-align: middle;\n",
              "    }\n",
              "\n",
              "    .dataframe tbody tr th {\n",
              "        vertical-align: top;\n",
              "    }\n",
              "\n",
              "    .dataframe thead th {\n",
              "        text-align: right;\n",
              "    }\n",
              "</style>\n",
              "<table border=\"1\" class=\"dataframe\">\n",
              "  <thead>\n",
              "    <tr style=\"text-align: right;\">\n",
              "      <th></th>\n",
              "      <th>Model</th>\n",
              "      <th>Score_train</th>\n",
              "      <th>Score_val</th>\n",
              "      <th>Score_test</th>\n",
              "    </tr>\n",
              "  </thead>\n",
              "  <tbody>\n",
              "    <tr>\n",
              "      <th>0</th>\n",
              "      <td>Random Forests</td>\n",
              "      <td>0.755360</td>\n",
              "      <td>0.73768</td>\n",
              "      <td>0.732793</td>\n",
              "    </tr>\n",
              "    <tr>\n",
              "      <th>2</th>\n",
              "      <td>GradientBoostingClassifier</td>\n",
              "      <td>0.740773</td>\n",
              "      <td>0.73864</td>\n",
              "      <td>0.734766</td>\n",
              "    </tr>\n",
              "    <tr>\n",
              "      <th>1</th>\n",
              "      <td>Logistic Regression</td>\n",
              "      <td>0.725440</td>\n",
              "      <td>0.73264</td>\n",
              "      <td>0.724956</td>\n",
              "    </tr>\n",
              "  </tbody>\n",
              "</table>\n",
              "</div>"
            ],
            "text/plain": [
              "                        Model  Score_train  Score_val  Score_test\n",
              "0              Random Forests     0.755360    0.73768    0.732793\n",
              "2  GradientBoostingClassifier     0.740773    0.73864    0.734766\n",
              "1         Logistic Regression     0.725440    0.73264    0.724956"
            ]
          },
          "metadata": {
            "tags": []
          },
          "execution_count": 266
        }
      ]
    },
    {
      "cell_type": "markdown",
      "metadata": {
        "id": "mGqw-yC6-U4m"
      },
      "source": [
        "## **Conclusion**\n",
        "\n",
        "By Training and optimizing 3 models, it is observed that all 3 models display similar efficiency and accuracy in predicting the Cardiovascular disease in an individual."
      ]
    },
    {
      "cell_type": "markdown",
      "metadata": {
        "id": "kyPX-uafbVJk"
      },
      "source": [
        "### **References**\n",
        "\n",
        "1. Towards Data Science \n",
        "2. Referred Machine Learning Mastery and Kaggle notebook for GridSearchCV and Hyperparameter tuning for Random Forests , Logistic Regression and feature importances. \n",
        "3. Referred Analytics Vidhya on MultiColinearity VIF table\n",
        "4. Referred Kaggle Notebook to convert height and weight into BMI and to remove the outliers, visualization of age vs cvd graph, models summary\n",
        "5. Referred Stackoverflow on how to use 'sep' command in colab and how to read the data in. \n",
        "6. Determining Correlation in the column - geeksforgeeks\n",
        "5. Remaining code was done by me.  \n",
        "\n",
        "\n",
        "\n",
        "\n",
        "\n"
      ]
    },
    {
      "cell_type": "markdown",
      "metadata": {
        "id": "vxlewjHzbE1F"
      },
      "source": [
        "### **LICENSE**\n",
        "\n",
        "Copyright <2020> Keshav K L\n",
        "\n",
        "Permission is hereby granted, free of charge, to any person obtaining a copy of this software and associated documentation files (the \"Software\"), to deal in the Software without restriction, including without limitation the rights to use, copy, modify, merge, publish, distribute, sublicense, and/or sell copies of the Software, and to permit persons to whom the Software is furnished to do so, subject to the following conditions:\n",
        "\n",
        "The above copyright notice and this permission notice shall be included in all copies or substantial portions of the Software.\n",
        "\n",
        "THE SOFTWARE IS PROVIDED \"AS IS\", WITHOUT WARRANTY OF ANY KIND, EXPRESS OR IMPLIED, INCLUDING BUT NOT LIMITED TO THE WARRANTIES OF MERCHANTABILITY, FITNESS FOR A PARTICULAR PURPOSE AND NONINFRINGEMENT. IN NO EVENT SHALL THE AUTHORS OR COPYRIGHT HOLDERS BE LIABLE FOR ANY CLAIM, DAMAGES OR OTHER LIABILITY, WHETHER IN AN ACTION OF CONTRACT, TORT OR OTHERWISE, ARISING FROM, OUT OF OR IN CONNECTION WITH THE SOFTWARE OR THE USE OR OTHER DEALINGS IN THE SOFTWARE."
      ]
    }
  ]
}